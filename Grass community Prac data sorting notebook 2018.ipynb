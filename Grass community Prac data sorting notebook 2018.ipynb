{
 "cells": [
  {
   "cell_type": "markdown",
   "metadata": {},
   "source": [
    "### Grass Community Practical data sorting worksheet\n",
    "Made by Jonathan Garber"
   ]
  },
  {
   "cell_type": "markdown",
   "metadata": {},
   "source": [
    "#### A Note about the organization of this folder\n",
    "- This Notebook (.ipynb file) should be sitting in a folder with two Python Scripts ( Grass_error_check.py and grass_sort.py) as well as a subfolder called sort_folder\n",
    "- ** Before you begin, you need to download all of the student's data entry spreadsheets and copy them into the sort_folder, that is the folder that the python scripts will look into to find the spreadsheets and cycle through them**\n",
    "- Note, there is a sort_test folder as well, This is the previous year's sheets that you can use to \n",
    "\n",
    "#### General workflow to sort these spreadsheets\n",
    "- 1) download the students data entry spreadsheets and copy them into the sort_folder\n",
    "- 2.) Run the Grass_error_check script over them, this will flag errors where students have input non numbers\n",
    "- 3.) Address errors in error readout\n",
    "- 4.) Run the Sort_Pracs function from the grass_sort script\n",
    "- 5.0 Address and combine additional species"
   ]
  },
  {
   "cell_type": "markdown",
   "metadata": {},
   "source": [
    "### 2.) checking your data\n",
    "\n",
    "!!!! Note run the following cells in order from top to bottom"
   ]
  },
  {
   "cell_type": "code",
   "execution_count": null,
   "metadata": {
    "collapsed": true
   },
   "outputs": [],
   "source": [
    "#get list of sheets from sort folder\n",
    "import os, Grass_error_check, Grass_sort\n",
    "import pandas as pd\n"
   ]
  },
  {
   "cell_type": "code",
   "execution_count": null,
   "metadata": {
    "collapsed": true
   },
   "outputs": [],
   "source": [
    "#sets the working directory to run from \n",
    "use_dir = os.getcwd()+\"\\sort_folder\"\n",
    "os.chdir(use_dir)\n",
    "\n",
    "sheetlist = os.listdir(use_dir) #gets the list for sheets\n"
   ]
  },
  {
   "cell_type": "code",
   "execution_count": null,
   "metadata": {},
   "outputs": [],
   "source": [
    "\n",
    "Grass_error_check.check_data(use_dir, sheetlist)"
   ]
  },
  {
   "cell_type": "markdown",
   "metadata": {},
   "source": [
    "#### 3.)  now that we know where there errors are, address them or throw out the data\n",
    "- Go into the spreadsheets and double check them, make sure everything in the data rows is a number, \n",
    "    - any text will be removed and treated as zero\n",
    "- there may be errors with people not writing down their names or pracs - note the analysis runs fine with out that\n",
    "    - It just enters the name of the spreadsheet as the team name\n",
    "- or putting in the time data for the wander search as \"'min:sec' instead of 'min.sec'"
   ]
  },
  {
   "cell_type": "code",
   "execution_count": null,
   "metadata": {},
   "outputs": [],
   "source": [
    "#Once you are done, check again\n",
    "Grass_error_check.check_data(use_dir, sheetlist)"
   ]
  },
  {
   "cell_type": "markdown",
   "metadata": {},
   "source": [
    "#### 4.) use the sort function"
   ]
  },
  {
   "cell_type": "code",
   "execution_count": null,
   "metadata": {},
   "outputs": [],
   "source": [
    "df_quad_out, df_ws, df_nq = Grass_sort.grass_sort(use_dir, sheetlist)"
   ]
  },
  {
   "cell_type": "code",
   "execution_count": null,
   "metadata": {},
   "outputs": [],
   "source": [
    "#check the wander search data\n",
    "df_ws"
   ]
  },
  {
   "cell_type": "markdown",
   "metadata": {},
   "source": [
    "### 5.) Now here is the annoying part, you need to mix together the additional species\n",
    "- What I have found is that multiple teams will fill in the same cover type of additional species i.e. Moss\n",
    "    - And we want to capture that for the study\n",
    "- You are creating a dictionary below (see the 2017 examplebelow\n",
    "- You will need to create key value pairs in your dictionary where the keys are the names of the extra species\n",
    "    - Key - the name of the species that multiple people sampled\n",
    "    - value pair, a list of the ID numbers up above (left most column) that fall within that category"
   ]
  },
  {
   "cell_type": "code",
   "execution_count": null,
   "metadata": {
    "collapsed": true
   },
   "outputs": [],
   "source": [
    "df_quad_out[51:]"
   ]
  },
  {
   "cell_type": "code",
   "execution_count": null,
   "metadata": {
    "collapsed": true
   },
   "outputs": [],
   "source": [
    "#If you just want to look at the first column of labels in the additional species\n",
    "df_quad_out.iloc[51:,1].dropna()"
   ]
  },
  {
   "cell_type": "code",
   "execution_count": null,
   "metadata": {
    "collapsed": true
   },
   "outputs": [],
   "source": [
    "#If you just want to look at the first column of labels in the additional species\n",
    "df_quad_out.iloc[51:,3].dropna()"
   ]
  },
  {
   "cell_type": "markdown",
   "metadata": {
    "collapsed": true
   },
   "source": [
    "```python\n",
    "#This is an example from 2017\n",
    "\n",
    "mix_dict_2017 = {'Moss':[73,77,85,87,90,94,97],\n",
    "            \"Fleshy red stem\":[78,79],\n",
    "            #'Austral Stonecrop':[76,97],\n",
    "            'Hair Grass':[89],\n",
    "            'unknown herb':[86],\n",
    "            'Lamandra':[88,92],\n",
    "            'Litter':[74,75,81,82,91,95],\n",
    "            'Dandelion':[84],\n",
    "            'poa sp':[80],\n",
    "            'short soft grass':[22,96], ###!!!! Note that the first number is alwasy the lowest one, this example links to a known Specides\n",
    "            'caratoden purpureus':[83]\n",
    "           }\n",
    "```"
   ]
  },
  {
   "cell_type": "code",
   "execution_count": null,
   "metadata": {
    "collapsed": true
   },
   "outputs": [],
   "source": [
    "### Need to fill this out\n",
    "mix_dict_2018 = {'Moss':[],\n",
    "                 'litter':[],\n",
    "                 \"additional species x\":[], # note change the name and add integers into the list pertaining to the numbers above\n",
    "                }"
   ]
  },
  {
   "cell_type": "code",
   "execution_count": null,
   "metadata": {
    "collapsed": true
   },
   "outputs": [],
   "source": [
    "#note additional removal of sheet names etc\n",
    "df_quad_out = Grass_sort.address_unk(df_quad_out, mix_dict_2018)\n",
    "df_quad_out = df_quad_out.drop(2,axis=1)\n",
    "df_nq_out = df_nq.drop('sheet',axis=1)\n",
    "df_ws_out = df_ws.drop('sheet',axis=1)"
   ]
  },
  {
   "cell_type": "code",
   "execution_count": null,
   "metadata": {
    "collapsed": true
   },
   "outputs": [],
   "source": []
  },
  {
   "cell_type": "markdown",
   "metadata": {},
   "source": [
    "### Last step, save them as csvs\n",
    "- Note they will save in the Sort_folder,\n",
    "- Also with the Abundance data, you should check to make sure the names and family of the additional species are right \n",
    "- There might be some extra rows to delete in the abundance data as well"
   ]
  },
  {
   "cell_type": "code",
   "execution_count": null,
   "metadata": {
    "collapsed": true
   },
   "outputs": [],
   "source": [
    "df_quad_out.to_csv(path_or_buf='abundance_20172.csv',encoding='utf-8', index=False)\n",
    "df_ws_out.to_csv(path_or_buf='Wanderingsearch_20172.csv',encoding='utf-8', index=False)\n",
    "df_nq_out.to_csv(path_or_buf='NestedQuadrats_20172.csv',encoding='utf-8', index=False)"
   ]
  },
  {
   "cell_type": "markdown",
   "metadata": {},
   "source": []
  }
 ],
 "metadata": {
  "kernelspec": {
   "display_name": "Python 3",
   "language": "python",
   "name": "python3"
  },
  "language_info": {
   "codemirror_mode": {
    "name": "ipython",
    "version": 3
   },
   "file_extension": ".py",
   "mimetype": "text/x-python",
   "name": "python",
   "nbconvert_exporter": "python",
   "pygments_lexer": "ipython3",
   "version": "3.6.3"
  }
 },
 "nbformat": 4,
 "nbformat_minor": 2
}
